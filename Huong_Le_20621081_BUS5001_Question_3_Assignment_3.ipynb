{
  "nbformat": 4,
  "nbformat_minor": 0,
  "metadata": {
    "colab": {
      "provenance": [],
      "authorship_tag": "ABX9TyNeKPg5MjryD6i/9plqaJYV",
      "include_colab_link": true
    },
    "kernelspec": {
      "name": "python3",
      "display_name": "Python 3"
    },
    "language_info": {
      "name": "python"
    }
  },
  "cells": [
    {
      "cell_type": "markdown",
      "metadata": {
        "id": "view-in-github",
        "colab_type": "text"
      },
      "source": [
        "<a href=\"https://colab.research.google.com/github/huongle20621081/sentimentquestion3/blob/main/Huong_Le_20621081_BUS5001_Question_3_Assignment_3.ipynb\" target=\"_parent\"><img src=\"https://colab.research.google.com/assets/colab-badge.svg\" alt=\"Open In Colab\"/></a>"
      ]
    },
    {
      "cell_type": "code",
      "execution_count": 5,
      "metadata": {
        "colab": {
          "base_uri": "https://localhost:8080/"
        },
        "id": "o9CsCDU8_BTZ",
        "outputId": "4cac7175-9369-4f34-8cfa-dfc710398cce"
      },
      "outputs": [
        {
          "output_type": "stream",
          "name": "stdout",
          "text": [
            "Looking in indexes: https://pypi.org/simple, https://us-python.pkg.dev/colab-wheels/public/simple/\n",
            "Requirement already satisfied: nltk in /usr/local/lib/python3.7/dist-packages (3.7)\n",
            "Requirement already satisfied: click in /usr/local/lib/python3.7/dist-packages (from nltk) (7.1.2)\n",
            "Requirement already satisfied: regex>=2021.8.3 in /usr/local/lib/python3.7/dist-packages (from nltk) (2022.6.2)\n",
            "Requirement already satisfied: joblib in /usr/local/lib/python3.7/dist-packages (from nltk) (1.2.0)\n",
            "Requirement already satisfied: tqdm in /usr/local/lib/python3.7/dist-packages (from nltk) (4.64.1)\n"
          ]
        },
        {
          "output_type": "stream",
          "name": "stderr",
          "text": [
            "[nltk_data] Downloading package vader_lexicon to /root/nltk_data...\n",
            "[nltk_data]   Package vader_lexicon is already up-to-date!\n"
          ]
        }
      ],
      "source": [
        "# Install and import nltk\n",
        "!pip install nltk\n",
        "import nltk\n",
        "\n",
        "# Download the lexicon\n",
        "nltk.download(\"vader_lexicon\")\n",
        "\n",
        "# Import the lexicon \n",
        "from nltk.sentiment.vader import SentimentIntensityAnalyzer\n",
        "\n",
        "# Create an instance of SentimentIntensityAnalyzer\n",
        "sent_analyzer = SentimentIntensityAnalyzer()"
      ]
    },
    {
      "cell_type": "code",
      "source": [
        "# Testing model. This review has a most extreme negative sentiment due to the compound score which is -0.6908. \n",
        "\n",
        "sentence = \"Worst delivery service from department store. My online order is not delivered to the right delivery address and I have not received my refund. Bad customer service.\""
      ],
      "metadata": {
        "id": "PJh744AtJnst"
      },
      "execution_count": 2,
      "outputs": []
    },
    {
      "cell_type": "code",
      "source": [
        "sentiment_scores = sent_analyzer.polarity_scores(sentence)\n",
        "print(f\"\"\"'{sentence}' \\n\n",
        "🙁 Negative Sentiment: {sentiment_scores['neg']} \\n  \n",
        "😐 Neutral Sentiment: {sentiment_scores['neu']} \\n\n",
        "😀 Positive Sentiment: {sentiment_scores['pos']} \\n\n",
        "✨ Compound Sentiment: {sentiment_scores['compound']} \\n\n",
        "--- \\n\"\"\")"
      ],
      "metadata": {
        "colab": {
          "base_uri": "https://localhost:8080/"
        },
        "id": "gfyP8mxmkYHL",
        "outputId": "a31e6d13-6552-4489-d045-2b69d916d967"
      },
      "execution_count": 3,
      "outputs": [
        {
          "output_type": "stream",
          "name": "stdout",
          "text": [
            "'Worst delivery service from department store. My online order is not delivered to the right delivery address and I have not received my refund. Bad customer service.' \n",
            "\n",
            "🙁 Negative Sentiment: 0.241 \n",
            "  \n",
            "😐 Neutral Sentiment: 0.759 \n",
            "\n",
            "😀 Positive Sentiment: 0.0 \n",
            "\n",
            "✨ Compound Sentiment: -0.8225 \n",
            "\n",
            "--- \n",
            "\n"
          ]
        }
      ]
    }
  ]
}